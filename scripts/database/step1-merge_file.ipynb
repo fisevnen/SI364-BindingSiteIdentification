{
 "cells": [
  {
   "cell_type": "code",
   "execution_count": 3,
   "metadata": {},
   "outputs": [
    {
     "data": {
      "text/plain": [
       "'19gs_1\\n'"
      ]
     },
     "execution_count": 3,
     "metadata": {},
     "output_type": "execute_result"
    }
   ],
   "source": [
    "with open('name_list','r')as f:\n",
    "    name_list = f.readlines()\n",
    "    f.close()\n",
    "    \n",
    "# len(name_list)\n"
   ]
  },
  {
   "cell_type": "code",
   "execution_count": 4,
   "metadata": {},
   "outputs": [],
   "source": [
    "from pymol import cmd\n",
    "for i in name_list:\n",
    "    i = i[:-1]\n",
    "    cmd.delete('all')\n",
    "    cmd.load('scPDB/'+i+'-ligand.pdb')\n",
    "    cmd.load('scPDB/' +i + '-protein.mol2')\n",
    "    cmd.save('scPDB/'+i+'-complex.pdb','all')"
   ]
  },
  {
   "cell_type": "code",
   "execution_count": null,
   "metadata": {},
   "outputs": [],
   "source": []
  }
 ],
 "metadata": {
  "interpreter": {
   "hash": "b47f99f9ba6a83650c6d0d0bd98c3dc8283158c62b54638ca2819a346aa5349a"
  },
  "kernelspec": {
   "display_name": "Python 3.9.5 64-bit ('base': conda)",
   "language": "python",
   "name": "python3"
  },
  "language_info": {
   "codemirror_mode": {
    "name": "ipython",
    "version": 3
   },
   "file_extension": ".py",
   "mimetype": "text/x-python",
   "name": "python",
   "nbconvert_exporter": "python",
   "pygments_lexer": "ipython3",
   "version": "3.8.8"
  },
  "orig_nbformat": 4
 },
 "nbformat": 4,
 "nbformat_minor": 2
}
