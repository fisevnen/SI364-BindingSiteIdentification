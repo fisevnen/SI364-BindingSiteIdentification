{
 "cells": [
  {
   "cell_type": "code",
   "execution_count": 1,
   "metadata": {},
   "outputs": [],
   "source": [
    "from pymol import cmd\n",
    "import os\n",
    "from tqdm import tqdm\n"
   ]
  },
  {
   "cell_type": "code",
   "execution_count": 2,
   "metadata": {},
   "outputs": [
    {
     "name": "stderr",
     "output_type": "stream",
     "text": [
      "100%|██████████| 5057/5057 [00:20<00:00, 241.13it/s]\n"
     ]
    }
   ],
   "source": [
    "folder_index = os.listdir('scPDB-complex')\n",
    "count = 0\n",
    "for i in tqdm(folder_index):\n",
    "    file_list = os.listdir('scPDB-complex/' + i)\n",
    "    if len(file_list) > 1:\n",
    "        count += 1\n"
   ]
  },
  {
   "cell_type": "code",
   "execution_count": 3,
   "metadata": {},
   "outputs": [],
   "source": [
    "with open('scPDB_bigger_index-new','r') as f:\n",
    "    total_indexs = f.readlines()\n",
    "    f.close()"
   ]
  },
  {
   "cell_type": "code",
   "execution_count": 6,
   "metadata": {},
   "outputs": [
    {
     "name": "stderr",
     "output_type": "stream",
     "text": [
      "  0%|          | 1/5057 [00:00<13:44,  6.13it/s]"
     ]
    },
    {
     "name": "stdout",
     "output_type": "stream",
     "text": [
      "scPDB-complex/P26935/4l8v_4-complex.pdb\n",
      "scPDB-complex/P26935/3ntr_2-complex.pdb\n"
     ]
    },
    {
     "name": "stderr",
     "output_type": "stream",
     "text": [
      "  0%|          | 15/5057 [00:00<02:17, 36.68it/s]"
     ]
    },
    {
     "name": "stdout",
     "output_type": "stream",
     "text": [
      "scPDB-complex/P95480/2ard_1-complex.pdb\n",
      "scPDB-complex/P95480/4z44_1-complex.pdb\n",
      "scPDB-complex/P35228/3ej8_2-complex.pdb\n"
     ]
    },
    {
     "name": "stderr",
     "output_type": "stream",
     "text": [
      "  0%|          | 22/5057 [00:00<02:42, 30.98it/s]"
     ]
    },
    {
     "name": "stdout",
     "output_type": "stream",
     "text": [
      "scPDB-complex/Q00535/1unl_1-complex.pdb\n",
      "scPDB-complex/Q00535/4au8_1-complex.pdb\n",
      "scPDB-complex/P35354/5f1a_1-complex.pdb\n"
     ]
    },
    {
     "name": "stderr",
     "output_type": "stream",
     "text": [
      "  1%|          | 26/5057 [00:01<04:26, 18.87it/s]"
     ]
    },
    {
     "name": "stdout",
     "output_type": "stream",
     "text": [
      "scPDB-complex/Q8N5Z0/4gdy_2-complex.pdb\n",
      "scPDB-complex/Q8N5Z0/4ge9_2-complex.pdb\n"
     ]
    },
    {
     "name": "stderr",
     "output_type": "stream",
     "text": [
      "  1%|          | 32/5057 [00:02<07:44, 10.83it/s]"
     ]
    },
    {
     "name": "stdout",
     "output_type": "stream",
     "text": [
      "scPDB-complex/P9WPA7/3aez_1-complex.pdb\n",
      "scPDB-complex/P9WPA7/3af0_1-complex.pdb\n",
      "scPDB-complex/P9WPA7/2zs8_1-complex.pdb\n",
      "scPDB-complex/P9WPA7/4bfz_1-complex.pdb\n",
      "scPDB-complex/P9WPA7/4bfv_1-complex.pdb\n",
      "scPDB-complex/P9WPA7/2zsd_1-complex.pdb\n",
      "scPDB-complex/P9WPA7/3af3_1-complex.pdb\n",
      "scPDB-complex/P9WPA7/3af2_1-complex.pdb\n",
      "scPDB-complex/P9WPA7/2zse_1-complex.pdb\n",
      "scPDB-complex/P9WPA7/4bfw_1-complex.pdb\n",
      "scPDB-complex/P9WPA7/3af4_1-complex.pdb\n",
      "scPDB-complex/P9WPA7/2geu_1-complex.pdb\n",
      "scPDB-complex/P9WPA7/2gev_1-complex.pdb\n",
      "scPDB-complex/P9WPA7/2zsb_1-complex.pdb\n",
      "scPDB-complex/P9WPA7/3af1_1-complex.pdb\n",
      "scPDB-complex/P9WPA7/2zsa_1-complex.pdb\n",
      "scPDB-complex/P9WPA7/2ges_1-complex.pdb\n",
      "scPDB-complex/P9WPA7/2zs9_1-complex.pdb\n",
      "scPDB-complex/P9WPA7/4bfu_1-complex.pdb\n"
     ]
    },
    {
     "name": "stderr",
     "output_type": "stream",
     "text": [
      "  1%|          | 38/5057 [00:02<07:06, 11.77it/s]"
     ]
    },
    {
     "name": "stdout",
     "output_type": "stream",
     "text": [
      "scPDB-complex/P59071/4eix_1-complex.pdb\n",
      "scPDB-complex/P59071/4eix_2-complex.pdb\n",
      "scPDB-complex/P59071/2oth_1-complex.pdb\n",
      "scPDB-complex/P59071/2oth_2-complex.pdb\n",
      "scPDB-complex/P59071/4qf7_1-complex.pdb\n",
      "scPDB-complex/P59071/2qvd_1-complex.pdb\n",
      "scPDB-complex/P59071/2pws_1-complex.pdb\n",
      "scPDB-complex/P59071/4qgd_1-complex.pdb\n",
      "scPDB-complex/P59071/2oli_1-complex.pdb\n",
      "scPDB-complex/P59071/2pmj_1-complex.pdb\n",
      "scPDB-complex/P59071/1kpm_1-complex.pdb\n",
      "scPDB-complex/P59071/2oub_1-complex.pdb\n",
      "scPDB-complex/P59071/1fv0_1-complex.pdb\n",
      "scPDB-complex/P59071/2oyf_1-complex.pdb\n",
      "scPDB-complex/P59071/4qer_1-complex.pdb\n",
      "scPDB-complex/P59071/4qem_1-complex.pdb\n",
      "scPDB-complex/Q6T1W8/2pae_2-complex.pdb\n"
     ]
    },
    {
     "name": "stderr",
     "output_type": "stream",
     "text": [
      "  1%|          | 43/5057 [00:02<06:17, 13.27it/s]"
     ]
    },
    {
     "name": "stdout",
     "output_type": "stream",
     "text": [
      "scPDB-complex/Q5S3I3/3gl2_2-complex.pdb\n",
      "scPDB-complex/Q5S3I3/3gob_1-complex.pdb\n"
     ]
    },
    {
     "name": "stderr",
     "output_type": "stream",
     "text": [
      "  1%|          | 52/5057 [00:03<04:58, 16.76it/s]"
     ]
    },
    {
     "name": "stdout",
     "output_type": "stream",
     "text": [
      "scPDB-complex/P17707/3dz2_1-complex.pdb\n",
      "scPDB-complex/P17707/3dz4_1-complex.pdb\n",
      "scPDB-complex/P17707/3dz6_1-complex.pdb\n",
      "scPDB-complex/P00432/3nwl_2-complex.pdb\n"
     ]
    },
    {
     "name": "stderr",
     "output_type": "stream",
     "text": [
      "  1%|          | 55/5057 [00:03<05:47, 14.39it/s]"
     ]
    },
    {
     "name": "stdout",
     "output_type": "stream",
     "text": [
      "scPDB-complex/Q50497/2ohj_4-complex.pdb\n"
     ]
    },
    {
     "name": "stderr",
     "output_type": "stream",
     "text": [
      "  1%|▏         | 64/5057 [00:04<04:24, 18.87it/s]"
     ]
    },
    {
     "name": "stdout",
     "output_type": "stream",
     "text": [
      "scPDB-complex/P23458/4e4l_3-complex.pdb\n",
      "scPDB-complex/P23458/3eyh_1-complex.pdb\n",
      "scPDB-complex/P23458/4ehz_3-complex.pdb\n",
      "scPDB-complex/P23458/4k77_1-complex.pdb\n",
      "scPDB-complex/O43683/5dmz_1-complex.pdb\n"
     ]
    },
    {
     "name": "stderr",
     "output_type": "stream",
     "text": [
      "  1%|▏         | 72/5057 [00:04<03:47, 21.90it/s]"
     ]
    },
    {
     "name": "stdout",
     "output_type": "stream",
     "text": [
      "scPDB-complex/P69902/1q6y_1-complex.pdb\n",
      "scPDB-complex/P39594/1g4t_1-complex.pdb\n",
      "scPDB-complex/P28012/1jep_2-complex.pdb\n",
      "scPDB-complex/P28012/1fm7_2-complex.pdb\n",
      "scPDB-complex/P28012/1eyq_1-complex.pdb\n"
     ]
    },
    {
     "name": "stderr",
     "output_type": "stream",
     "text": [
      "  1%|▏         | 75/5057 [00:05<07:21, 11.29it/s]"
     ]
    },
    {
     "name": "stdout",
     "output_type": "stream",
     "text": [
      "scPDB-complex/P07445/3ipt_1-complex.pdb\n",
      "scPDB-complex/P07445/3cpo_1-complex.pdb\n",
      "scPDB-complex/P07445/3owu_1-complex.pdb\n",
      "scPDB-complex/P07445/3fzw_1-complex.pdb\n",
      "scPDB-complex/P07445/1e3v_1-complex.pdb\n",
      "scPDB-complex/P07445/3vgn_2-complex.pdb\n",
      "scPDB-complex/P07445/3owy_1-complex.pdb\n",
      "scPDB-complex/P07445/1w6y_1-complex.pdb\n",
      "scPDB-complex/P07445/3ows_2-complex.pdb\n",
      "scPDB-complex/P07445/2pzv_2-complex.pdb\n",
      "scPDB-complex/P07445/1oh0_2-complex.pdb\n",
      "scPDB-complex/E0YCS2/3stu_1-complex.pdb\n",
      "scPDB-complex/E0YCS2/3stx_1-complex.pdb\n"
     ]
    },
    {
     "name": "stderr",
     "output_type": "stream",
     "text": [
      "  2%|▏         | 82/5057 [00:05<07:26, 11.14it/s]"
     ]
    },
    {
     "name": "stdout",
     "output_type": "stream",
     "text": [
      "scPDB-complex/P49137/3kga_1-complex.pdb\n",
      "scPDB-complex/P49137/1nxk_1-complex.pdb\n",
      "scPDB-complex/P49137/3r2b_1-complex.pdb\n",
      "scPDB-complex/P49137/1ny3_1-complex.pdb\n",
      "scPDB-complex/P49137/3ka0_1-complex.pdb\n",
      "scPDB-complex/P49137/3m42_1-complex.pdb\n",
      "scPDB-complex/P49137/3wi6_1-complex.pdb\n",
      "scPDB-complex/P22894/1zs0_1-complex.pdb\n",
      "scPDB-complex/P22894/1bzs_1-complex.pdb\n",
      "scPDB-complex/P22894/1zvx_1-complex.pdb\n"
     ]
    },
    {
     "name": "stderr",
     "output_type": "stream",
     "text": [
      "  2%|▏         | 94/5057 [00:05<03:52, 21.34it/s]"
     ]
    },
    {
     "name": "stdout",
     "output_type": "stream",
     "text": [
      "scPDB-complex/P45025/2rl1_1-complex.pdb\n",
      "scPDB-complex/Q57977/3bbh_2-complex.pdb\n"
     ]
    },
    {
     "name": "stderr",
     "output_type": "stream",
     "text": [
      "  2%|▏         | 99/5057 [00:06<03:38, 22.71it/s]"
     ]
    },
    {
     "name": "stdout",
     "output_type": "stream",
     "text": [
      "scPDB-complex/P0AE22/2g1a_2-complex.pdb\n",
      "scPDB-complex/P0AE22/2b8j_1-complex.pdb\n"
     ]
    },
    {
     "name": "stderr",
     "output_type": "stream",
     "text": [
      "  2%|▏         | 102/5057 [00:06<05:21, 15.40it/s]\n"
     ]
    },
    {
     "ename": "KeyboardInterrupt",
     "evalue": "",
     "output_type": "error",
     "traceback": [
      "\u001b[0;31m---------------------------------------------------------------------------\u001b[0m",
      "\u001b[0;31mKeyboardInterrupt\u001b[0m                         Traceback (most recent call last)",
      "\u001b[0;32m<ipython-input-6-a2443f63c3fe>\u001b[0m in \u001b[0;36m<module>\u001b[0;34m\u001b[0m\n\u001b[1;32m     20\u001b[0m                     \u001b[0;31m# print('no ligand name')\u001b[0m\u001b[0;34m\u001b[0m\u001b[0;34m\u001b[0m\u001b[0;34m\u001b[0m\u001b[0m\n\u001b[1;32m     21\u001b[0m             \u001b[0mcmd\u001b[0m\u001b[0;34m.\u001b[0m\u001b[0mdelete\u001b[0m\u001b[0;34m(\u001b[0m\u001b[0;34m'all'\u001b[0m\u001b[0;34m)\u001b[0m\u001b[0;34m\u001b[0m\u001b[0;34m\u001b[0m\u001b[0m\n\u001b[0;32m---> 22\u001b[0;31m             \u001b[0mcmd\u001b[0m\u001b[0;34m.\u001b[0m\u001b[0mload\u001b[0m\u001b[0;34m(\u001b[0m\u001b[0;34m'scPDB-complex/'\u001b[0m \u001b[0;34m+\u001b[0m \u001b[0mi\u001b[0m \u001b[0;34m+\u001b[0m \u001b[0;34m'/'\u001b[0m \u001b[0;34m+\u001b[0m \u001b[0mj\u001b[0m\u001b[0;34m)\u001b[0m\u001b[0;34m\u001b[0m\u001b[0;34m\u001b[0m\u001b[0m\n\u001b[0m\u001b[1;32m     23\u001b[0m             \u001b[0mcmd\u001b[0m\u001b[0;34m.\u001b[0m\u001b[0mselect\u001b[0m\u001b[0;34m(\u001b[0m\u001b[0;34m'ligand'\u001b[0m\u001b[0;34m,\u001b[0m\u001b[0;34m'resn '\u001b[0m \u001b[0;34m+\u001b[0m \u001b[0mligname\u001b[0m\u001b[0;34m)\u001b[0m\u001b[0;34m\u001b[0m\u001b[0;34m\u001b[0m\u001b[0m\n\u001b[1;32m     24\u001b[0m             \u001b[0;32mif\u001b[0m \u001b[0mlen\u001b[0m\u001b[0;34m(\u001b[0m\u001b[0mcmd\u001b[0m\u001b[0;34m.\u001b[0m\u001b[0mget_model\u001b[0m\u001b[0;34m(\u001b[0m\u001b[0;34m'ligand'\u001b[0m\u001b[0;34m)\u001b[0m\u001b[0;34m.\u001b[0m\u001b[0matom\u001b[0m\u001b[0;34m)\u001b[0m \u001b[0;34m>=\u001b[0m \u001b[0;36m1\u001b[0m\u001b[0;34m:\u001b[0m\u001b[0;34m\u001b[0m\u001b[0;34m\u001b[0m\u001b[0m\n",
      "\u001b[0;32m~/software/anaconda3/envs/pytorch/lib/python3.8/site-packages/pymol/importing.py\u001b[0m in \u001b[0;36mload\u001b[0;34m(filename, object, state, format, finish, discrete, quiet, multiplex, zoom, partial, mimic, object_props, atom_props, _self)\u001b[0m\n\u001b[1;32m    869\u001b[0m                 \u001b[0mkw\u001b[0m\u001b[0;34m[\u001b[0m\u001b[0;34m'contents'\u001b[0m\u001b[0;34m]\u001b[0m \u001b[0;34m=\u001b[0m \u001b[0m_self\u001b[0m\u001b[0;34m.\u001b[0m\u001b[0mfile_read\u001b[0m\u001b[0;34m(\u001b[0m\u001b[0mfilename\u001b[0m\u001b[0;34m)\u001b[0m\u001b[0;34m\u001b[0m\u001b[0;34m\u001b[0m\u001b[0m\n\u001b[1;32m    870\u001b[0m \u001b[0;34m\u001b[0m\u001b[0m\n\u001b[0;32m--> 871\u001b[0;31m             \u001b[0;32mreturn\u001b[0m \u001b[0mfunc\u001b[0m\u001b[0;34m(\u001b[0m\u001b[0;34m**\u001b[0m\u001b[0mkw\u001b[0m\u001b[0;34m)\u001b[0m\u001b[0;34m\u001b[0m\u001b[0;34m\u001b[0m\u001b[0m\n\u001b[0m\u001b[1;32m    872\u001b[0m         \u001b[0;32mfinally\u001b[0m\u001b[0;34m:\u001b[0m\u001b[0;34m\u001b[0m\u001b[0;34m\u001b[0m\u001b[0m\n\u001b[1;32m    873\u001b[0m             \u001b[0m_self\u001b[0m\u001b[0;34m.\u001b[0m\u001b[0munlock\u001b[0m\u001b[0;34m(\u001b[0m\u001b[0mr\u001b[0m\u001b[0;34m,\u001b[0m\u001b[0m_self\u001b[0m\u001b[0;34m)\u001b[0m\u001b[0;34m\u001b[0m\u001b[0;34m\u001b[0m\u001b[0m\n",
      "\u001b[0;32m~/software/anaconda3/envs/pytorch/lib/python3.8/site-packages/pymol/importing.py\u001b[0m in \u001b[0;36mread_pdbstr\u001b[0;34m(contents, oname, state, finish, discrete, quiet, zoom, multiplex, object_props, _self)\u001b[0m\n\u001b[1;32m   1066\u001b[0m     '''\n\u001b[1;32m   1067\u001b[0m         \u001b[0;32mwith\u001b[0m \u001b[0m_self\u001b[0m\u001b[0;34m.\u001b[0m\u001b[0mlockcm\u001b[0m\u001b[0;34m:\u001b[0m\u001b[0;34m\u001b[0m\u001b[0;34m\u001b[0m\u001b[0m\n\u001b[0;32m-> 1068\u001b[0;31m             r = _cmd.load(_self._COb, str(oname), None, contents,\n\u001b[0m\u001b[1;32m   1069\u001b[0m                     \u001b[0mint\u001b[0m\u001b[0;34m(\u001b[0m\u001b[0mstate\u001b[0m\u001b[0;34m)\u001b[0m \u001b[0;34m-\u001b[0m \u001b[0;36m1\u001b[0m\u001b[0;34m,\u001b[0m \u001b[0mloadable\u001b[0m\u001b[0;34m.\u001b[0m\u001b[0mpdbstr\u001b[0m\u001b[0;34m,\u001b[0m\u001b[0;34m\u001b[0m\u001b[0;34m\u001b[0m\u001b[0m\n\u001b[1;32m   1070\u001b[0m                               \u001b[0mint\u001b[0m\u001b[0;34m(\u001b[0m\u001b[0mfinish\u001b[0m\u001b[0;34m)\u001b[0m\u001b[0;34m,\u001b[0m\u001b[0mint\u001b[0m\u001b[0;34m(\u001b[0m\u001b[0mdiscrete\u001b[0m\u001b[0;34m)\u001b[0m\u001b[0;34m,\u001b[0m\u001b[0mint\u001b[0m\u001b[0;34m(\u001b[0m\u001b[0mquiet\u001b[0m\u001b[0;34m)\u001b[0m\u001b[0;34m,\u001b[0m\u001b[0;34m\u001b[0m\u001b[0;34m\u001b[0m\u001b[0m\n",
      "\u001b[0;31mKeyboardInterrupt\u001b[0m: "
     ]
    }
   ],
   "source": [
    "import center_of_mass\n",
    "import shutil\n",
    "from numpy import linalg\n",
    "\n",
    "out_list = []\n",
    "\n",
    "for i in tqdm(folder_index):\n",
    "    file_list = os.listdir('scPDB-complex/' + i)\n",
    "    if len(file_list) <= 1:\n",
    "        pass\n",
    "    else:\n",
    "        coords = []\n",
    "        for j in file_list:\n",
    "            # print(j[:6])\n",
    "            for z in total_indexs:\n",
    "                # print(z)\n",
    "                if j[:6] == z.split(',')[0]:\n",
    "                    ligname = z.split(',')[1]\n",
    "                # else:\n",
    "                    # print('no ligand name')\n",
    "            cmd.delete('all')\n",
    "            cmd.load('scPDB-complex/' + i + '/' + j)\n",
    "            cmd.select('ligand','resn ' + ligname)\n",
    "            if len(cmd.get_model('ligand').atom) >= 1:\n",
    "                center_of_mass.com('ligand', state=1, object='COM')\n",
    "                coord=cmd.get_coordset('COM', 1)\n",
    "            else:\n",
    "                shutil.move('scPDB-complex/' + i + '/' + j, 'scPDB-ligname-false/')\n",
    "            \n",
    "            #print(type(coord))\n",
    "            coords.append(coord)\n",
    "        out_coords = [coords[0]]\n",
    "        for t in range(len(coords)-1):\n",
    "            remove = False\n",
    "            for o in out_coords:\n",
    "                try:\n",
    "                    move = False\n",
    "                    for n in range(3):\n",
    "                        if type(coords[t+1][n]) != 'NoneType':\n",
    "                            pass\n",
    "                        else:\n",
    "                            move = True\n",
    "                            \n",
    "                    if move == False:\n",
    "                        test_matrix = coords[t+1]-o\n",
    "                        if linalg.norm(test_matrix) >= 10:\n",
    "                            pass\n",
    "                        else:\n",
    "                            remove = True\n",
    "                    else:\n",
    "                        shutil.move('scPDB-complex/' + i + '/' + file_list[t+1], 'scPDB-ligname-false/') \n",
    "                        \n",
    "                except:\n",
    "                    print('scPDB-complex/' + i + '/' + file_list[t+1])\n",
    "                    pass\n",
    "                    \n",
    "                # if linalg.norm(test_matrix) >= 10:\n",
    "                #     pass\n",
    "                # else:\n",
    "                #     remove = True\n",
    "            if remove == True:\n",
    "                #out_list.append('scPDB-complex/' + i + '/' + file_list[t])\n",
    "                shutil.move('scPDB-complex/' + i + '/' + file_list[t+1], 'scPDB-less-than10/') \n",
    "            "
   ]
  },
  {
   "cell_type": "code",
   "execution_count": 56,
   "metadata": {},
   "outputs": [],
   "source": [
    "import center_of_mass"
   ]
  },
  {
   "cell_type": "code",
   "execution_count": 9,
   "metadata": {},
   "outputs": [
    {
     "name": "stderr",
     "output_type": "stream",
     "text": [
      "100%|██████████| 5057/5057 [20:18<00:00,  4.15it/s]\n"
     ]
    }
   ],
   "source": [
    "import center_of_mass\n",
    "import shutil\n",
    "from numpy import linalg\n",
    "\n",
    "out_list = []\n",
    "\n",
    "for i in tqdm(folder_index):\n",
    "    file_list = os.listdir('scPDB-complex/' + i)\n",
    "    if len(file_list) <= 1:\n",
    "        pass\n",
    "    else:\n",
    "        coords = []\n",
    "        for j in file_list:\n",
    "            # print(j[:6])\n",
    "            for z in total_indexs:\n",
    "                # print(z)\n",
    "                if j[:6] == z.split(',')[0]:\n",
    "                    ligname = z.split(',')[1]\n",
    "                # else:\n",
    "                    # print('no ligand name')\n",
    "            cmd.delete('all')\n",
    "            cmd.load('scPDB-complex/' + i + '/' + j)\n",
    "            cmd.select('ligand','resn ' + ligname)\n",
    "            if len(cmd.get_model('ligand').atom) >= 1:\n",
    "                center_of_mass.com('ligand', state=1, object='COM',)\n",
    "                coord=cmd.get_coordset('COM', 1)\n",
    "            else:\n",
    "                shutil.move('scPDB-complex/' + i + '/' + j, 'scPDB-ligname-false/')\n",
    "            \n",
    "            #print(type(coord))\n",
    "            coords.append(coord)\n",
    "        out_coords = [coords[0]]\n",
    "        for t in range(len(coords)-1):\n",
    "            remove = False\n",
    "            for o in out_coords:\n",
    "                move = False\n",
    "                #print(coords[t+1])\n",
    "                # for n in range(3):\n",
    "                #     if type(coords[t+1][n]) != 'NoneType':\n",
    "                #         pass\n",
    "                #     else:\n",
    "                #         move = True\n",
    "                test_matrix = coords[t+1]-o\n",
    "\n",
    "                if linalg.norm(test_matrix) >= 10:\n",
    "                    pass\n",
    "                else:\n",
    "                    remove = True\n",
    "            if remove == True:\n",
    "                #out_list.append('scPDB-complex/' + i + '/' + file_list[t])\n",
    "                shutil.move('scPDB-complex/' + i + '/' + file_list[t+1], 'scPDB-less-than10/') \n",
    "            "
   ]
  },
  {
   "cell_type": "code",
   "execution_count": null,
   "metadata": {},
   "outputs": [],
   "source": []
  }
 ],
 "metadata": {
  "interpreter": {
   "hash": "e87d90d3168cf1f6e77093c7d460e2ee7ed8a8243f3d30cb4ad5b0e708692663"
  },
  "kernelspec": {
   "display_name": "Python 3.8.8 64-bit ('pytorch': conda)",
   "language": "python",
   "name": "python3"
  },
  "language_info": {
   "codemirror_mode": {
    "name": "ipython",
    "version": 3
   },
   "file_extension": ".py",
   "mimetype": "text/x-python",
   "name": "python",
   "nbconvert_exporter": "python",
   "pygments_lexer": "ipython3",
   "version": "3.8.8"
  },
  "orig_nbformat": 4
 },
 "nbformat": 4,
 "nbformat_minor": 2
}
