{
 "cells": [
  {
   "cell_type": "code",
   "execution_count": 1,
   "metadata": {},
   "outputs": [],
   "source": [
    "import os\n",
    "from pymol import cmd"
   ]
  },
  {
   "cell_type": "code",
   "execution_count": 2,
   "metadata": {},
   "outputs": [],
   "source": [
    "def ExtractFasta(protein, path, outpath):\n",
    "    cmd.delete('all')\n",
    "    cmd.load(path + '/' + protein)\n",
    "\n",
    "    cmd.remove('h.')\n",
    "    cmd.remove('solvent')\n",
    "    cmd.remove('org.')\n",
    "    cmd.remove('metals')\n",
    "\n",
    "    seq = cmd.get_fastastr('all')\n",
    "\n",
    "    with open(outpath + '/' + protein[:-4] +'.fasta','w') as f:\n",
    "        f.write(seq)\n",
    "        f.close()"
   ]
  },
  {
   "cell_type": "code",
   "execution_count": 3,
   "metadata": {},
   "outputs": [
    {
     "name": "stderr",
     "output_type": "stream",
     "text": [
      "  0%|          | 1/10392 [00:00<30:25,  5.69it/s]"
     ]
    },
    {
     "name": "stdout",
     "output_type": "stream",
     "text": [
      " PyMOL not running, entering library mode (experimental)\n"
     ]
    },
    {
     "name": "stderr",
     "output_type": "stream",
     "text": [
      "100%|██████████| 10392/10392 [07:26<00:00, 23.28it/s]\n"
     ]
    }
   ],
   "source": [
    "file_list = os.listdir('part2/pdb')\n",
    "from tqdm import tqdm\n",
    "for i in tqdm(file_list):\n",
    "    #print('final_general_DB_single_chain/%s' %i)\n",
    "    ExtractFasta(i, 'part2/pdb', 'part2/fasta')"
   ]
  },
  {
   "cell_type": "code",
   "execution_count": null,
   "metadata": {},
   "outputs": [],
   "source": []
  }
 ],
 "metadata": {
  "interpreter": {
   "hash": "e87d90d3168cf1f6e77093c7d460e2ee7ed8a8243f3d30cb4ad5b0e708692663"
  },
  "kernelspec": {
   "display_name": "Python 3.8.8 64-bit ('pytorch': conda)",
   "language": "python",
   "name": "python3"
  },
  "language_info": {
   "codemirror_mode": {
    "name": "ipython",
    "version": 3
   },
   "file_extension": ".py",
   "mimetype": "text/x-python",
   "name": "python",
   "nbconvert_exporter": "python",
   "pygments_lexer": "ipython3",
   "version": "3.8.8"
  },
  "orig_nbformat": 4
 },
 "nbformat": 4,
 "nbformat_minor": 2
}
